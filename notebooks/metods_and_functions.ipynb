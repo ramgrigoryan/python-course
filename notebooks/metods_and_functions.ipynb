{
 "cells": [
  {
   "cell_type": "markdown",
   "metadata": {},
   "source": [
    "## Methods and functions"
   ]
  },
  {
   "cell_type": "code",
   "execution_count": 3,
   "metadata": {},
   "outputs": [],
   "source": [
    "def print_any_text(text=\"Nothing\"):\n",
    "    print(f'function print_any_text prints: {text}')"
   ]
  },
  {
   "cell_type": "code",
   "execution_count": 5,
   "metadata": {},
   "outputs": [
    {
     "name": "stdout",
     "output_type": "stream",
     "text": [
      "function print_any_text prints: Hello, World!\n"
     ]
    }
   ],
   "source": [
    "print_any_text(\"Hello, World!\")"
   ]
  },
  {
   "cell_type": "code",
   "execution_count": 10,
   "metadata": {},
   "outputs": [
    {
     "name": "stdout",
     "output_type": "stream",
     "text": [
      "9\n",
      "1\n",
      "625\n",
      "1.25\n",
      "1\n",
      "20\n"
     ]
    }
   ],
   "source": [
    "def basic_calc_operations(num1,sign,num2):\n",
    "    if(not num1 or not num2):\n",
    "        return 'please provide both arguments'\n",
    "    if(sign==\"+\"):\n",
    "        return num1 + num2\n",
    "    elif sign=='-':\n",
    "        return num1 - num2\n",
    "    elif sign== '*':\n",
    "        return num1 * num2\n",
    "    elif sign== '/' and num2!=0:\n",
    "        return num1 / num2\n",
    "    elif sign =='**':\n",
    "        return num1**num2\n",
    "    elif sign=='%':\n",
    "        return num1%num2\n",
    "    else:\n",
    "        return 'wrong inputs'\n",
    "    \n",
    "print(basic_calc_operations(5,'+',4))\n",
    "print(basic_calc_operations(5,'%',4))\n",
    "print(basic_calc_operations(5,'**',4))\n",
    "print(basic_calc_operations(5,'/',4))\n",
    "print(basic_calc_operations(5,'-',4))\n",
    "print(basic_calc_operations(5,'*',4))"
   ]
  },
  {
   "cell_type": "code",
   "execution_count": 11,
   "metadata": {},
   "outputs": [
    {
     "name": "stdout",
     "output_type": "stream",
     "text": [
      "function print_any_text prints: Vahram\n",
      "None\n",
      "<class 'NoneType'>\n"
     ]
    }
   ],
   "source": [
    "result = print_any_text(\"Vahram\")\n",
    "print(result)\n",
    "print(type(result))"
   ]
  },
  {
   "cell_type": "markdown",
   "metadata": {},
   "source": [
    "Find most expensive stock and its price in the list"
   ]
  },
  {
   "cell_type": "code",
   "execution_count": 35,
   "metadata": {},
   "outputs": [],
   "source": [
    "stocks = [(\"Apple\",200),(\"Google\",400),(\"Tesla\",420),(\"Netflix\",200),(\"Telegram\",196)]\n",
    "\n",
    "def find_expensive_stock():\n",
    "    found_stock=('',0)\n",
    "    for company,price in stocks:\n",
    "        if price> found_stock[1]:\n",
    "            found_stock = (company,price)\n",
    "    if not found_stock[0]:\n",
    "        print('No items in the stock')\n",
    "    else:\n",
    "        return found_stock\n",
    "\n",
    "stock_name, stock_price = find_expensive_stock()"
   ]
  },
  {
   "cell_type": "code",
   "execution_count": 36,
   "metadata": {},
   "outputs": [
    {
     "name": "stdout",
     "output_type": "stream",
     "text": [
      "Tesla\n",
      "420\n"
     ]
    }
   ],
   "source": [
    "print(stock_name)\n",
    "print(stock_price)"
   ]
  },
  {
   "cell_type": "markdown",
   "metadata": {},
   "source": [
    "### *args and **kwargs"
   ]
  },
  {
   "cell_type": "code",
   "execution_count": 1,
   "metadata": {},
   "outputs": [],
   "source": [
    "def sum_of_all_numbers(*args):\n",
    "    return sum(args)"
   ]
  },
  {
   "cell_type": "code",
   "execution_count": 2,
   "metadata": {},
   "outputs": [
    {
     "data": {
      "text/plain": [
       "55"
      ]
     },
     "execution_count": 2,
     "metadata": {},
     "output_type": "execute_result"
    }
   ],
   "source": [
    "sum_of_all_numbers(1,2,3,4,5,6,7,8,9,10)"
   ]
  },
  {
   "cell_type": "code",
   "execution_count": 3,
   "metadata": {},
   "outputs": [],
   "source": [
    "def find_my_favorite_meal(**kwargs):\n",
    "    if 'favorite_meal' in kwargs:\n",
    "        print(f'My favorite meal is {kwargs[\"favorite_meal\"]}')\n",
    "    else:\n",
    "        print('Not found')"
   ]
  },
  {
   "cell_type": "code",
   "execution_count": 4,
   "metadata": {},
   "outputs": [
    {
     "name": "stdout",
     "output_type": "stream",
     "text": [
      "My favorite meal is Salsa\n"
     ]
    }
   ],
   "source": [
    "find_my_favorite_meal(favorite_car='Tesla',favorite_meal='Salsa')"
   ]
  },
  {
   "cell_type": "code",
   "execution_count": 5,
   "metadata": {},
   "outputs": [],
   "source": [
    "def myFunc(*args,**kwargs):\n",
    "    print(args)\n",
    "    print(kwargs)\n"
   ]
  },
  {
   "cell_type": "code",
   "execution_count": 6,
   "metadata": {},
   "outputs": [
    {
     "name": "stdout",
     "output_type": "stream",
     "text": [
      "(1, 2, 3, 4, 'a', 'b', ['ha', 'ba'])\n",
      "{'friend': 'Gor', 'company': {'name': 'bostongene'}}\n"
     ]
    }
   ],
   "source": [
    "myFunc(1,2,3,4,'a','b',['ha','ba'],friend='Gor',company={'name':'bostongene'})"
   ]
  },
  {
   "cell_type": "code",
   "execution_count": null,
   "metadata": {},
   "outputs": [],
   "source": []
  }
 ],
 "metadata": {
  "kernelspec": {
   "display_name": "Python 3",
   "language": "python",
   "name": "python3"
  },
  "language_info": {
   "codemirror_mode": {
    "name": "ipython",
    "version": 3
   },
   "file_extension": ".py",
   "mimetype": "text/x-python",
   "name": "python",
   "nbconvert_exporter": "python",
   "pygments_lexer": "ipython3",
   "version": "3.10.12"
  },
  "orig_nbformat": 4
 },
 "nbformat": 4,
 "nbformat_minor": 2
}
