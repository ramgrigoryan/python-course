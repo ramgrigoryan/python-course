{
 "cells": [
  {
   "cell_type": "markdown",
   "metadata": {},
   "source": [
    "## TIC TAC TOE GAME"
   ]
  },
  {
   "cell_type": "code",
   "execution_count": 1,
   "metadata": {},
   "outputs": [],
   "source": [
    "def display_welcome ():\n",
    "    print('Welcome to the \\'Tic Tac Toe\\' Game ! ');"
   ]
  },
  {
   "cell_type": "code",
   "execution_count": 2,
   "metadata": {},
   "outputs": [
    {
     "name": "stdout",
     "output_type": "stream",
     "text": [
      "Welcome to the 'Tic Tac Toe' Game ! \n"
     ]
    }
   ],
   "source": [
    "display_welcome()"
   ]
  },
  {
   "cell_type": "code",
   "execution_count": 3,
   "metadata": {},
   "outputs": [],
   "source": [
    "def display_template(row1:list[str],row2:list[str],row3:list[str]):\n",
    "    print ('\\n'+ ''.join(row1))\n",
    "    print (''.join(['----', '---', '----']))\n",
    "    print (''.join(row2))\n",
    "    print (''.join(['----', '---', '----']))\n",
    "    print (''.join(row3)+'\\n')\n"
   ]
  },
  {
   "cell_type": "code",
   "execution_count": 4,
   "metadata": {},
   "outputs": [
    {
     "name": "stdout",
     "output_type": "stream",
     "text": [
      "\n",
      "   |   |   \n",
      "-----------\n",
      "   |   |   \n",
      "-----------\n",
      "   |   |   \n",
      "\n"
     ]
    }
   ],
   "source": [
    "display_template( ['   ', '|', '   ','|', '   '],\n",
    "    ['   ', '|', '   ','|', '   '],\n",
    "     ['   ', '|', '   ','|', '   '])"
   ]
  },
  {
   "cell_type": "code",
   "execution_count": 5,
   "metadata": {},
   "outputs": [],
   "source": [
    "def approve_game_start():\n",
    "    answer = input('Do you want to start the game (Y or N)')\n",
    "    return answer == 'Y'"
   ]
  },
  {
   "cell_type": "code",
   "execution_count": 6,
   "metadata": {},
   "outputs": [],
   "source": [
    "def make_validated_move(current_player,past_moves:list[int]):\n",
    "    current_player_move=0\n",
    "    while(not current_player_move ):\n",
    "        user_move_input = input(f'{current_player}, make your move or press F to finish the game')\n",
    "        if user_move_input=='F':\n",
    "            return 0\n",
    "        elif not user_move_input.isdigit():\n",
    "            print('Wrong input,try again')\n",
    "        elif int(user_move_input) in past_moves:\n",
    "            print('That spot is busy, make another decision')\n",
    "        elif int(user_move_input) in range(1,10):\n",
    "            past_moves.append(int(user_move_input))\n",
    "            current_player_move = int(user_move_input)\n",
    "    \n",
    "    return current_player_move\n"
   ]
  },
  {
   "cell_type": "code",
   "execution_count": 7,
   "metadata": {},
   "outputs": [],
   "source": [
    "def identify_row(num:int,row1,row2,row3):\n",
    "    if num <4: return row1\n",
    "    elif num>6: return row3\n",
    "    else: return row2"
   ]
  },
  {
   "cell_type": "code",
   "execution_count": 8,
   "metadata": {},
   "outputs": [],
   "source": [
    "def update_rows(player2:str,current_player:str,current_player_move:int,current_row:list[str]):\n",
    "    symbol = 'X'\n",
    "    \n",
    "    row_position = 0\n",
    "    \n",
    "    if(current_player_move%3!=0):\n",
    "        row_position = (current_player_move%3 -1) * 2\n",
    "    else: row_position = 4\n",
    "    \n",
    "    if(player2==current_player): symbol = 'O'\n",
    "\n",
    "    for index,_value in enumerate(current_row):\n",
    "        if(index==row_position):\n",
    "            current_row[index]=f' {symbol} '\n",
    "    \n",
    "    return  current_row\n"
   ]
  },
  {
   "cell_type": "code",
   "execution_count": 9,
   "metadata": {},
   "outputs": [],
   "source": [
    "def summary(row1,row2,row3):\n",
    "    x = 'X'\n",
    "    o = 'O'\n",
    "\n",
    "    def even(indexValue):\n",
    "        (index,_value) = indexValue\n",
    "        return index%2==0\n",
    "    \n",
    "    def transform(indexValue):\n",
    "        (_index,value) = indexValue\n",
    "        if (x in value):\n",
    "            return x\n",
    "        elif(o in value):\n",
    "            return o\n",
    "        \n",
    "\n",
    "    def clean_row(row:list[str]):\n",
    "        return list(map(transform,filter(even,enumerate(row))))\n",
    "\n",
    "   \n",
    "    clean_row1 = clean_row(row1)\n",
    "    clean_row2 = clean_row(row2)\n",
    "    clean_row3 = clean_row(row3)\n",
    "\n",
    "    if(clean_row1.count(x)==3 or clean_row2.count(x)==3 or clean_row3.count(x)==3):\n",
    "         print('horizontal')\n",
    "         return x\n",
    "    \n",
    "    if(clean_row1.count(o)==3 or clean_row2.count(o)==3 or clean_row3.count(o)==3):\n",
    "         print('horizontal')\n",
    "         return o\n",
    "\n",
    "    for index,symbol in enumerate(clean_row1):\n",
    "        if clean_row1[index] == clean_row2[index] and clean_row2[index]==clean_row3[index]:\n",
    "            if symbol=='X' or symbol=='0':\n",
    "                print('vertical')\n",
    "                return symbol\n",
    "    if clean_row1[0]==clean_row2[1] and clean_row2[1] == clean_row3[2] or clean_row1[2] == clean_row2[1] and clean_row2[1] == clean_row3[0]:\n",
    "        if(clean_row2[1] in ['X','O']):\n",
    "            print('cross')\n",
    "            return clean_row2[1]\n",
    "    \n",
    "    return 'tie'\n",
    "        \n",
    "\n"
   ]
  },
  {
   "cell_type": "code",
   "execution_count": 10,
   "metadata": {},
   "outputs": [],
   "source": [
    "def play_game():\n",
    "    row1 = ['   ', '|', '   ','|', '   ']\n",
    "    row2 = ['   ', '|', '   ','|', '   ']\n",
    "    row3 = ['   ', '|', '   ','|', '   ']\n",
    "    current_row = row1\n",
    "\n",
    "    player1=''\n",
    "    player2=''\n",
    "\n",
    "    current_player_move = ''\n",
    "\n",
    "\n",
    "    is_ongoing_game = True\n",
    "\n",
    "    past_moves = []\n",
    "\n",
    "    display_welcome();\n",
    "\n",
    "    is_approved = approve_game_start()\n",
    "\n",
    "    if(not is_approved): return\n",
    "\n",
    "    while not player1:\n",
    "        player1 = input('Enter player1 name: ')\n",
    "\n",
    "    while not player2:\n",
    "        player2 = input('Enter player2 name: ')\n",
    "\n",
    "    current_player = player1;\n",
    "\n",
    "    display_template(row1,row2,row3)\n",
    "\n",
    "    while(is_ongoing_game):\n",
    "        current_player_move = make_validated_move(current_player,past_moves)\n",
    "\n",
    "        if current_player_move==0:\n",
    "            print(\"The game was interrupted\")\n",
    "            return\n",
    "    \n",
    "        current_row = identify_row(current_player_move,row1,row2,row3)\n",
    "        current_row = update_rows(player2,current_player,current_player_move,current_row)\n",
    "\n",
    "        display_template(row1,row2,row3)\n",
    "\n",
    "        if(current_player == player1):\n",
    "            current_player = player2\n",
    "        else:\n",
    "            current_player = player1\n",
    "        \n",
    "        if(len(past_moves)==9): \n",
    "            is_ongoing_game = False\n",
    "            break\n",
    "        if(summary(row1,row2,row3)!='tie'):\n",
    "            break\n",
    "    \n",
    "    result = summary(row1,row2,row3)\n",
    "    \n",
    "    print('Game over')\n",
    "\n",
    "    if result == 'X':\n",
    "        print(player1 + ' won!')\n",
    "    elif result == 'O':\n",
    "        print(player2 + ' won!')\n",
    "    else:\n",
    "        print('It is a tie!')\n",
    "    \n",
    "\n",
    "\n",
    "\n",
    "\n",
    "\n",
    "\n",
    "    \n",
    "\n",
    "\n",
    "\n",
    "\n"
   ]
  },
  {
   "cell_type": "code",
   "execution_count": 11,
   "metadata": {},
   "outputs": [
    {
     "name": "stdout",
     "output_type": "stream",
     "text": [
      "Welcome to the 'Tic Tac Toe' Game ! \n",
      "\n",
      "   |   |   \n",
      "-----------\n",
      "   |   |   \n",
      "-----------\n",
      "   |   |   \n",
      "\n",
      "\n",
      " X |   |   \n",
      "-----------\n",
      "   |   |   \n",
      "-----------\n",
      "   |   |   \n",
      "\n",
      "cross\n",
      "\n",
      " X | O |   \n",
      "-----------\n",
      "   |   |   \n",
      "-----------\n",
      "   |   |   \n",
      "\n",
      "cross\n",
      "\n",
      " X | O |   \n",
      "-----------\n",
      " X |   |   \n",
      "-----------\n",
      "   |   |   \n",
      "\n",
      "cross\n",
      "\n",
      " X | O | O \n",
      "-----------\n",
      " X |   |   \n",
      "-----------\n",
      "   |   |   \n",
      "\n",
      "\n",
      " X | O | O \n",
      "-----------\n",
      " X |   |   \n",
      "-----------\n",
      " X |   |   \n",
      "\n",
      "vertical\n",
      "vertical\n",
      "Game over\n",
      "Vahram won!\n"
     ]
    }
   ],
   "source": [
    "play_game()"
   ]
  },
  {
   "cell_type": "code",
   "execution_count": null,
   "metadata": {},
   "outputs": [],
   "source": []
  }
 ],
 "metadata": {
  "kernelspec": {
   "display_name": "Python 3",
   "language": "python",
   "name": "python3"
  },
  "language_info": {
   "codemirror_mode": {
    "name": "ipython",
    "version": 3
   },
   "file_extension": ".py",
   "mimetype": "text/x-python",
   "name": "python",
   "nbconvert_exporter": "python",
   "pygments_lexer": "ipython3",
   "version": "3.10.12"
  }
 },
 "nbformat": 4,
 "nbformat_minor": 2
}
