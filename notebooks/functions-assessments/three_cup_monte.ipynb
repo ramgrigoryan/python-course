{
 "cells": [
  {
   "cell_type": "markdown",
   "metadata": {},
   "source": [
    "### Three cup monte game"
   ]
  },
  {
   "cell_type": "code",
   "execution_count": 36,
   "metadata": {},
   "outputs": [],
   "source": [
    "from random import shuffle"
   ]
  },
  {
   "cell_type": "code",
   "execution_count": 37,
   "metadata": {},
   "outputs": [],
   "source": [
    "def play_three_cup_monte_round():\n",
    "    #initial collection\n",
    "    collection = [None,\"Ball\",None]\n",
    "    #Show to the player\n",
    "    print(collection)\n",
    "    # Now shuffle cups\n",
    "    shuffle(collection)\n",
    "\n",
    "    #let player to choose cup\n",
    "    user_selection = input(\"Choose Cup (1,2 or 3)\")\n",
    "    print(f'the player selected {user_selection} which have type {type(user_selection)}')\n",
    "    if(user_selection not in [\"1\",\"2\",\"3\"]):\n",
    "        user_answer = input(\"wrong input, do you want to try again? (yes or no)\")\n",
    "        if user_answer == 'yes':\n",
    "            play_three_cup_monte_round()\n",
    "        else:\n",
    "            return\n",
    "    if(collection[int(user_selection)-1]=='Ball'):\n",
    "        print(f'Congratulations! Here is the ball -> {collection} !! You win!!!')\n",
    "    else:\n",
    "        print(f\"You lose, it is empty -> {collection}\")\n",
    "    \n",
    "    user_answer = input(\"Do you want to try again? (yes or no)\")\n",
    "    \n",
    "    if user_answer == 'yes':\n",
    "        play_three_cup_monte_round()\n",
    "        \n",
    "\n",
    "    "
   ]
  },
  {
   "cell_type": "code",
   "execution_count": 38,
   "metadata": {},
   "outputs": [
    {
     "name": "stdout",
     "output_type": "stream",
     "text": [
      "[None, 'Ball', None]\n",
      "the player selected 1 which have type <class 'str'>\n",
      "You lose, it is empty -> [None, None, 'Ball']\n"
     ]
    }
   ],
   "source": [
    "play_three_cup_monte_round()"
   ]
  }
 ],
 "metadata": {
  "kernelspec": {
   "display_name": "Python 3",
   "language": "python",
   "name": "python3"
  },
  "language_info": {
   "codemirror_mode": {
    "name": "ipython",
    "version": 3
   },
   "file_extension": ".py",
   "mimetype": "text/x-python",
   "name": "python",
   "nbconvert_exporter": "python",
   "pygments_lexer": "ipython3",
   "version": "3.10.12"
  },
  "orig_nbformat": 4
 },
 "nbformat": 4,
 "nbformat_minor": 2
}
