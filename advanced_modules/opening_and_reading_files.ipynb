{
 "cells": [
  {
   "cell_type": "code",
   "execution_count": 1,
   "metadata": {},
   "outputs": [
    {
     "data": {
      "text/plain": [
       "'/home/user633/Desktop/python-course/advanced_modules'"
      ]
     },
     "execution_count": 1,
     "metadata": {},
     "output_type": "execute_result"
    }
   ],
   "source": [
    "pwd"
   ]
  },
  {
   "cell_type": "code",
   "execution_count": 2,
   "metadata": {},
   "outputs": [],
   "source": [
    "f = open('preactice.txt','w+')\n",
    "f.write('This is a test string')\n",
    "f.close()"
   ]
  },
  {
   "cell_type": "code",
   "execution_count": 3,
   "metadata": {},
   "outputs": [],
   "source": [
    "import os"
   ]
  },
  {
   "cell_type": "code",
   "execution_count": 4,
   "metadata": {},
   "outputs": [
    {
     "data": {
      "text/plain": [
       "'/home/user633/Desktop/python-course/advanced_modules'"
      ]
     },
     "execution_count": 4,
     "metadata": {},
     "output_type": "execute_result"
    }
   ],
   "source": [
    "os.getcwd()"
   ]
  },
  {
   "cell_type": "code",
   "execution_count": 5,
   "metadata": {},
   "outputs": [
    {
     "data": {
      "text/plain": [
       "['collections.ipynb', 'opening_and_reading_files.ipynb', 'preactice.txt']"
      ]
     },
     "execution_count": 5,
     "metadata": {},
     "output_type": "execute_result"
    }
   ],
   "source": [
    "os.listdir()"
   ]
  },
  {
   "cell_type": "code",
   "execution_count": 6,
   "metadata": {},
   "outputs": [
    {
     "data": {
      "text/plain": [
       "['advanced_modules',\n",
       " '.gitignore',\n",
       " 'notebooks',\n",
       " '.ipynb_checkpoints',\n",
       " 'statements_lesson',\n",
       " 'decorators',\n",
       " '.git',\n",
       " 'generators',\n",
       " '.vscode',\n",
       " 'pylint_and_unittest',\n",
       " 'file_lesson',\n",
       " 'modules']"
      ]
     },
     "execution_count": 6,
     "metadata": {},
     "output_type": "execute_result"
    }
   ],
   "source": [
    "os.listdir('../')"
   ]
  },
  {
   "cell_type": "code",
   "execution_count": 8,
   "metadata": {},
   "outputs": [
    {
     "data": {
      "text/plain": [
       "['advanced_modules',\n",
       " '.gitignore',\n",
       " 'notebooks',\n",
       " '.ipynb_checkpoints',\n",
       " 'statements_lesson',\n",
       " 'decorators',\n",
       " '.git',\n",
       " 'generators',\n",
       " '.vscode',\n",
       " 'pylint_and_unittest',\n",
       " 'file_lesson',\n",
       " 'modules']"
      ]
     },
     "execution_count": 8,
     "metadata": {},
     "output_type": "execute_result"
    }
   ],
   "source": [
    "os.listdir('/home/user633/Desktop/python-course/')"
   ]
  },
  {
   "cell_type": "code",
   "execution_count": 9,
   "metadata": {},
   "outputs": [],
   "source": [
    "import shutil"
   ]
  },
  {
   "cell_type": "code",
   "execution_count": 11,
   "metadata": {},
   "outputs": [
    {
     "data": {
      "text/plain": [
       "'./files/practice.txt'"
      ]
     },
     "execution_count": 11,
     "metadata": {},
     "output_type": "execute_result"
    }
   ],
   "source": [
    "shutil.move('practice.txt','./files/')"
   ]
  },
  {
   "cell_type": "code",
   "execution_count": 13,
   "metadata": {},
   "outputs": [],
   "source": [
    "nf = open(\"tobedeleted.txt\",\"w+\")\n",
    "nf.write('Some random text')\n",
    "nf.close()"
   ]
  },
  {
   "cell_type": "code",
   "execution_count": 16,
   "metadata": {},
   "outputs": [],
   "source": [
    "send2trash('tobedeleted.tst')"
   ]
  },
  {
   "cell_type": "code",
   "execution_count": 23,
   "metadata": {},
   "outputs": [
    {
     "name": "stdout",
     "output_type": "stream",
     "text": [
      "folder path is ./top_level_dir/\n",
      "\n",
      "Subfolder is botttom_level_dir2\n",
      "\n",
      "Subfolder is bottom_level_dir3\n",
      "\n",
      "Subfolder is bottom_level_dir1\n",
      "\n",
      "so this is a file : hello.txt\n",
      "\n",
      "folder path is ./top_level_dir/botttom_level_dir2\n",
      "\n",
      "so this is a file : test2.txt\n",
      "\n",
      "folder path is ./top_level_dir/bottom_level_dir3\n",
      "\n",
      "folder path is ./top_level_dir/bottom_level_dir1\n",
      "\n",
      "Subfolder is very_bottom_dir\n",
      "\n",
      "so this is a file : test1.txt\n",
      "\n",
      "folder path is ./top_level_dir/bottom_level_dir1/very_bottom_dir\n",
      "\n"
     ]
    }
   ],
   "source": [
    "for folder, subfolder, files in os.walk('./top_level_dir/'):\n",
    "    print(f'folder path is {folder}\\n')\n",
    "    for subfolderName in subfolder:\n",
    "        print(f'Subfolder is {subfolderName}\\n')\n",
    "    \n",
    "    for singleFile in files:\n",
    "        print(f'so this is a file : {singleFile}\\n')"
   ]
  },
  {
   "cell_type": "code",
   "execution_count": null,
   "metadata": {},
   "outputs": [],
   "source": []
  }
 ],
 "metadata": {
  "kernelspec": {
   "display_name": "Python 3",
   "language": "python",
   "name": "python3"
  },
  "language_info": {
   "codemirror_mode": {
    "name": "ipython",
    "version": 3
   },
   "file_extension": ".py",
   "mimetype": "text/x-python",
   "name": "python",
   "nbconvert_exporter": "python",
   "pygments_lexer": "ipython3",
   "version": "3.10.12"
  }
 },
 "nbformat": 4,
 "nbformat_minor": 2
}
